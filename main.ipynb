{
 "cells": [
  {
   "cell_type": "markdown",
   "metadata": {},
   "source": [
    "# Policy Gradient for Optimal Control\n",
    "\n",
    "In this notebook, we will empirically test policies for various environments, to measure the efficacy of the policies we develop in the written section on live noise. We will be using the environments defined in `environments/multiplicative_gaussian_noise_environment.py`, which will need to be completed prior to beginning this notebook. There are certain properties about these environments that are more specific than definition 2 of section 1.2 of the writeup. Here is an overview of those:\n",
    "1. $A_t \\sim \\mathcal{N}(a, \\alpha^2)$, $B_t \\sim \\mathcal{N}(b, \\beta^2)$, and $C_t \\sim \\mathcal{N}(c, \\gamma^2)$ are all normal distributions.\n",
    "2. $X_0 = 1$ (this means $\\mu = 1$, $\\sigma = 0$)."
   ]
  },
  {
   "cell_type": "code",
   "execution_count": null,
   "metadata": {},
   "outputs": [],
   "source": [
    "import numpy as np\n",
    "import torch\n",
    "import matplotlib.pyplot as plt\n",
    "\n",
    "from tqdm import tqdm\n",
    "from typing import List\n",
    "from torch import Tensor\n",
    "from environments.base_environment import Environment\n",
    "from environments.multiplicative_gaussian_noise_environment import MultiplicativeGaussianNoiseEnvironment, MultiplicativeGaussianControlNoiseEnvironment, \\\n",
    "                                                    MultiplicativeGaussianStateControlNoiseEnvironment, MultiplicativeGaussianObservationNoiseEnvironment\n",
    "\n",
    "from policies.base_policy import Policy\n",
    "from policies.m1p1_linear_policy_modules import FixedWeightM1P1LinearModule\n",
    "\n",
    "from infrastructure.visualization import plot_average_second_moment_trajectory, plot_empirical_average_second_moment_and_partial_loss, plot_empirical_loss_over_a\n",
    "from agent import Agent\n",
    "from control_engine import ControlEngine\n",
    "\n",
    "import random\n",
    "np.random.seed(0)\n",
    "torch.manual_seed(0)\n",
    "random.seed(0)"
   ]
  },
  {
   "cell_type": "code",
   "execution_count": null,
   "metadata": {},
   "outputs": [],
   "source": [
    "import os\n",
    "\n",
    "# Patch for buggy matplotlib\n",
    "os.environ['KMP_DUPLICATE_LIB_OK']='True'"
   ]
  },
  {
   "cell_type": "markdown",
   "metadata": {},
   "source": [
    "The `sim_policy` function simulates $N$ trajectories, each of $T$ timesteps, using the given policy within the given environment."
   ]
  },
  {
   "cell_type": "code",
   "execution_count": null,
   "metadata": {},
   "outputs": [],
   "source": [
    "def sim_policy(T: int, N: int, policy: Policy, env: Environment):\n",
    "    agent = Agent(policy)\n",
    "    engine = ControlEngine(agent, env)\n",
    "    states, _, _, losses = engine.collect_trajectories(N = 100, T = 100, use_stochastic_policy = False)\n",
    "    return states, losses"
   ]
  },
  {
   "cell_type": "markdown",
   "metadata": {},
   "source": [
    "# Control Noise"
   ]
  },
  {
   "cell_type": "markdown",
   "metadata": {},
   "source": [
    "Write the optimal linear coefficient $\\theta$ you found in Problem 3 for the control noise system as a function of $a$, $b$, and $\\beta$."
   ]
  },
  {
   "cell_type": "code",
   "execution_count": null,
   "metadata": {},
   "outputs": [],
   "source": [
    "# TODO\n",
    "theta_cn = lambda a, b, beta: ..."
   ]
  },
  {
   "cell_type": "markdown",
   "metadata": {},
   "source": [
    "Analyze the system where $a = 1$, $b = 1$, $\\beta = 1$."
   ]
  },
  {
   "cell_type": "code",
   "execution_count": null,
   "metadata": {},
   "outputs": [],
   "source": [
    "a = 1\n",
    "b = 1\n",
    "beta = 1\n",
    "\n",
    "env = MultiplicativeGaussianControlNoiseEnvironment(\n",
    "    a = a,\n",
    "    b = b,\n",
    "    beta = beta,\n",
    "    lmbda = 0\n",
    ")\n",
    "\n",
    "linear_policy = Policy(FixedWeightM1P1LinearModule(theta_cn(a, b, beta)))\n",
    "states, losses = sim_policy(100, 100, linear_policy, env)"
   ]
  },
  {
   "cell_type": "markdown",
   "metadata": {},
   "source": [
    "We empirically estimate $\\mathbb E[X_t^2] \\approx \\frac{1}{N} \\sum_{i=1}^{N} (X^{(i)})^2_t$, where $X^{(i)}_t$ is the state at timestep $t$ on the $i$-th rollout.\n",
    "\n",
    "Likewise, we define the empirical loss as $\\overline{L}(F) = \\sum_{t=1}^{T} \\mathbb E[X_t^2] \\approx \\frac{1}{N} \\sum_{t=1}^{T} \\sum_{i=1}^{N} \\Big(X^{(i)}_t\\Big)^2$. It is sometimes interesting to look at the 'partial' loss; that is, the loss for the first $\\tilde{t}$ timesteps. Define this as $\\overline{L}(F; \\tilde{t}) = \\frac{1}{N} \\sum_{t=1}^{\\tilde{t}} \\sum_{i=1}^{N} \\Big(X^{(i)}_t\\Big)^2$."
   ]
  },
  {
   "cell_type": "code",
   "execution_count": null,
   "metadata": {},
   "outputs": [],
   "source": [
    "plot_empirical_average_second_moment_and_partial_loss(states, losses, \"Control-Noise\")"
   ]
  },
  {
   "cell_type": "markdown",
   "metadata": {},
   "source": [
    "Now, we rerun the above simulation with different values of $a$ (again with $b = 1$ and $\\beta = 1$)."
   ]
  },
  {
   "cell_type": "code",
   "execution_count": null,
   "metadata": {},
   "outputs": [],
   "source": [
    "a_list = [3, 2, 1.5, 1.4, 1.0, 0.9]\n",
    "\n",
    "a_losses = []\n",
    "\n",
    "for a in a_list:\n",
    "    env = MultiplicativeGaussianControlNoiseEnvironment(\n",
    "        a = a,\n",
    "        b = b,\n",
    "        beta = beta,\n",
    "        lmbda = 0\n",
    "    )\n",
    "    \n",
    "    linear_policy = Policy(FixedWeightM1P1LinearModule(theta_cn(a, b, beta)))\n",
    "    states, losses = sim_policy(100, 100, linear_policy, env)\n",
    "    plot_average_second_moment_trajectory(states, a)"
   ]
  },
  {
   "cell_type": "markdown",
   "metadata": {},
   "source": [
    "### What values of $a$ are stabilizable by your analysis? Do the above plots line up with your analysis?"
   ]
  },
  {
   "cell_type": "markdown",
   "metadata": {},
   "source": [
    "TODO"
   ]
  },
  {
   "cell_type": "markdown",
   "metadata": {},
   "source": [
    "Now, we will examine an interesting property of the optimal policy derived in Problem 3 (b). Let $F^*$ denote this policy, and let $U_{t}^{*} = F_{t}^{*}(Y_{(t)})$. It's worth noting that this policy does not necessarily set the expected value of $X_{t + 1}$ to $0$; that is,\n",
    "\n",
    "$$\\mathbb E[X_{t+1} | Y_t] = \\mathbb E[aY_t + B_tU_t^* \\mid Y_{t}] \\neq 0$$\n",
    "\n",
    "whenever $\\beta > 0$. We say that this policy is \"biased\".\n",
    "\n",
    "We could compute another (\"unbiased\") policy $F^{0}$ such that \n",
    "$$\\mathbb E[aY_t + B_tU_t^0 \\mid Y_{t}] = 0.$$\n",
    "This policy is given by $U_t^0 = F_t^0(Y_{(t)}) = -\\frac{a}{b}Y_t$. When $\\beta \\gg 0$, the difference between these policies is quite pronounced. Since this policy does not optimize the second moment, it will perform worse (in the second-moment sense) when you compare it to the optimal second-moment-minimizing policy."
   ]
  },
  {
   "cell_type": "code",
   "execution_count": null,
   "metadata": {},
   "outputs": [],
   "source": [
    "# TODO\n",
    "theta_0 = lambda a, b, beta: ..."
   ]
  },
  {
   "cell_type": "markdown",
   "metadata": {},
   "source": [
    "Compare both policies when $a = 1.1$, $b = 1$, and $\\beta = 2$."
   ]
  },
  {
   "cell_type": "code",
   "execution_count": null,
   "metadata": {},
   "outputs": [],
   "source": [
    "a = 1.1\n",
    "b = 1\n",
    "beta = 2\n",
    "\n",
    "env = MultiplicativeGaussianControlNoiseEnvironment(\n",
    "    a = a,\n",
    "    b = b,\n",
    "    beta = beta,\n",
    "    lmbda = 0\n",
    ")\n",
    "\n",
    "### U^*\n",
    "linear_policy = Policy(FixedWeightM1P1LinearModule(theta_cn(a, b, beta)))\n",
    "states_star, losses_star = sim_policy(100, 100, linear_policy, env)\n",
    "\n",
    "### U^0\n",
    "linear_policy = Policy(FixedWeightM1P1LinearModule(theta_0(a, b, beta)))\n",
    "states_0, losses_0 = sim_policy(100, 100, linear_policy, env)"
   ]
  },
  {
   "cell_type": "code",
   "execution_count": null,
   "metadata": {},
   "outputs": [],
   "source": [
    "mean_states_star = np.array(states_star).mean(axis=0)\n",
    "mean_second_moments_star = np.power(states_star, 2).mean(axis=0)\n",
    "mean_cumsum_losses_star = np.array(losses_star).cumsum(axis=1).mean(0)\n",
    "\n",
    "mean_states_0 = np.array(states_0).mean(axis=0)\n",
    "mean_second_moments_0 = np.power(states_0, 2).mean(axis=0)\n",
    "mean_cumsum_losses_0 = np.array(losses_0).cumsum(axis=1).mean(0)\n",
    "\n",
    "fig, ax = plt.subplots(nrows=2, ncols=1, figsize=(9,18))\n",
    "\n",
    "ax[0].plot(mean_second_moments_star, label='biased')\n",
    "ax[0].plot(mean_second_moments_0, label='unbiased')\n",
    "ax[0].set_yscale(\"log\")\n",
    "ax[0].set_xlabel(r'$t$')\n",
    "ax[0].set_ylabel(r'$\\overline{X_t^2}$')\n",
    "ax[0].legend()\n",
    "ax[0].set_title('Empirical $\\mathbb{E}[X_{t}^{2}]$ for Control-Noise System')\n",
    "\n",
    "ax[1].plot(mean_cumsum_losses_star, label='biased')\n",
    "ax[1].plot(mean_cumsum_losses_0, label='unbiased')\n",
    "ax[1].set_xlabel(r'$\\tilde{t}$')\n",
    "ax[1].set_ylabel(r'$L(F; \\tilde{t})$')\n",
    "ax[1].legend()\n",
    "ax[1].set_title('Empirical Partial Loss for Control-Noise System')\n",
    "plt.show()"
   ]
  },
  {
   "cell_type": "markdown",
   "metadata": {},
   "source": [
    "### What do you notice about the difference in the empirical average state second moment $\\mathbb{E}[X_t^2]$ of the biased versus unbiased policy? Which one is more stable?"
   ]
  },
  {
   "cell_type": "markdown",
   "metadata": {},
   "source": [
    "TODO"
   ]
  },
  {
   "cell_type": "markdown",
   "metadata": {},
   "source": [
    "# State-Control Noise"
   ]
  },
  {
   "cell_type": "markdown",
   "metadata": {},
   "source": [
    "Write the optimal linear coefficient $\\theta$ you found in Problem 4 for the state-control noise system as a function of $a$, $b$, $\\alpha$, $\\beta$, and $\\lambda$."
   ]
  },
  {
   "cell_type": "code",
   "execution_count": null,
   "metadata": {},
   "outputs": [],
   "source": [
    "# TODO\n",
    "theta_scn = lambda a, b, alpha, beta, lmbda: ..."
   ]
  },
  {
   "cell_type": "markdown",
   "metadata": {},
   "source": [
    "Analyze the system where $a = 1$, $b = 1$, $\\alpha = 0.5$, $\\beta = 0.5$, $\\lambda = 1$."
   ]
  },
  {
   "cell_type": "code",
   "execution_count": null,
   "metadata": {},
   "outputs": [],
   "source": [
    "a = 1\n",
    "b = 1\n",
    "alpha = 0.5\n",
    "beta = 0.5\n",
    "lmbda = 1\n",
    "\n",
    "env = MultiplicativeGaussianStateControlNoiseEnvironment(\n",
    "    a = a,\n",
    "    b = b,\n",
    "    alpha = alpha,\n",
    "    beta = beta,\n",
    "    lmbda = lmbda\n",
    ")\n",
    "\n",
    "linear_policy = Policy(FixedWeightM1P1LinearModule(theta_scn(a, b, alpha, beta, lmbda)))\n",
    "states, losses = sim_policy(100, 100, linear_policy, env)"
   ]
  },
  {
   "cell_type": "markdown",
   "metadata": {},
   "source": [
    "Plot the empirical average second moment and the partial empirical losses as we did for the control noise system."
   ]
  },
  {
   "cell_type": "code",
   "execution_count": null,
   "metadata": {},
   "outputs": [],
   "source": [
    "plot_empirical_average_second_moment_and_partial_loss(states, losses, \"State-Control-Noise\")"
   ]
  },
  {
   "cell_type": "markdown",
   "metadata": {},
   "source": [
    "As we did in the case of Control Noise, for a variety of $a$ (and with $b = 1$, $\\alpha = 0.5$, $\\beta = 0.5$, and $\\lambda = 1$ as above), we rerun the above simulation"
   ]
  },
  {
   "cell_type": "code",
   "execution_count": null,
   "metadata": {},
   "outputs": [],
   "source": [
    "a_list = [3.0, 2.0, 1.4, 1.3, 1.0, 0.9]\n",
    "\n",
    "a_losses = []\n",
    "\n",
    "for a in a_list:\n",
    "    env = MultiplicativeGaussianStateControlNoiseEnvironment(\n",
    "        a = a,\n",
    "        b = b,\n",
    "        alpha = alpha,\n",
    "        beta = beta,\n",
    "        lmbda = lmbda\n",
    "    )\n",
    "    \n",
    "    linear_policy = Policy(FixedWeightM1P1LinearModule(theta_scn(a, b, alpha, beta, lmbda)))\n",
    "    states, losses = sim_policy(100, 100, linear_policy, env)\n",
    "    plot_average_second_moment_trajectory(states, a)"
   ]
  },
  {
   "cell_type": "markdown",
   "metadata": {},
   "source": [
    "### What values of $a$ can be stabilized by your analysis?"
   ]
  },
  {
   "cell_type": "markdown",
   "metadata": {},
   "source": [
    "TODO"
   ]
  },
  {
   "cell_type": "markdown",
   "metadata": {},
   "source": [
    "# Observation Noise "
   ]
  },
  {
   "cell_type": "markdown",
   "metadata": {},
   "source": [
    "Write the optimal linear coefficient $\\theta$ you found in Problem 5 for the observation noise system as a function of $a$, $c$, and $\\gamma$."
   ]
  },
  {
   "cell_type": "code",
   "execution_count": null,
   "metadata": {},
   "outputs": [],
   "source": [
    "# TODO\n",
    "theta_on = lambda a, c, gamma: ..."
   ]
  },
  {
   "cell_type": "markdown",
   "metadata": {},
   "source": [
    "Analyze the system where $a = 1$, $c = 1$, and $\\gamma = 1$."
   ]
  },
  {
   "cell_type": "code",
   "execution_count": null,
   "metadata": {},
   "outputs": [],
   "source": [
    "a = 1\n",
    "c = 1\n",
    "gamma = 1\n",
    "\n",
    "env = MultiplicativeGaussianObservationNoiseEnvironment(\n",
    "    a = a,\n",
    "    c = c,\n",
    "    gamma = gamma,\n",
    "    lmbda = 0\n",
    ")\n",
    "\n",
    "linear_policy = Policy(FixedWeightM1P1LinearModule(theta_on(a, c, gamma)))\n",
    "states, losses = sim_policy(100, 100, linear_policy, env)"
   ]
  },
  {
   "cell_type": "markdown",
   "metadata": {},
   "source": [
    "Plot the empirical average second moment and the partial empirical losses."
   ]
  },
  {
   "cell_type": "code",
   "execution_count": null,
   "metadata": {},
   "outputs": [],
   "source": [
    "plot_empirical_average_second_moment_and_partial_loss(states, losses, \"Observation-Noise\")"
   ]
  },
  {
   "cell_type": "markdown",
   "metadata": {},
   "source": [
    "### How does the perfomance of this policy compare to the perfromance of the greedy linear policy in the control noise case illustrated in the begining of the notebook?"
   ]
  },
  {
   "cell_type": "markdown",
   "metadata": {},
   "source": [
    "TODO"
   ]
  },
  {
   "cell_type": "markdown",
   "metadata": {},
   "source": [
    "As we did in the case of Control and State-Control Noise systems, for a variety of $a$, $c = 1$, $\\gamma = 1$ (as above), rerun the above simulation and save $\\overline{L}(F^*)$."
   ]
  },
  {
   "cell_type": "code",
   "execution_count": null,
   "metadata": {},
   "outputs": [],
   "source": [
    "a_list = [3, 2, 1.5, 1.4, 1.0, 0.9]\n",
    "\n",
    "a_losses = []\n",
    "\n",
    "for a in a_list:\n",
    "    env = MultiplicativeGaussianObservationNoiseEnvironment(\n",
    "        a = a,\n",
    "        c = c,\n",
    "        gamma = gamma,\n",
    "        lmbda = 0\n",
    "    )\n",
    "\n",
    "    linear_policy = Policy(FixedWeightM1P1LinearModule(theta_on(a, c, gamma)))\n",
    "    states, losses = sim_policy(100, 100, linear_policy, env)\n",
    "    plot_average_second_moment_trajectory(states, a)"
   ]
  },
  {
   "cell_type": "markdown",
   "metadata": {},
   "source": [
    "### What values of $a$ are stabilizable by your analysis? Does the above graph line up with your analysis?"
   ]
  },
  {
   "cell_type": "markdown",
   "metadata": {},
   "source": [
    "TODO"
   ]
  },
  {
   "cell_type": "markdown",
   "metadata": {},
   "source": [
    "# Period-1 vs Period-2 Policies for Observation Noise"
   ]
  },
  {
   "cell_type": "markdown",
   "metadata": {},
   "source": [
    "Implement the memory-1 period-2 policy defined in Problem 5 (f) as $F'_t(Y_{(t)}) = \\begin{cases}\\frac{1}{2} + \\frac{2}{5}|Y_{t}| & \\text{if \\(t\\) is even} \\\\ -\\frac{1}{2} - \\frac{1}{2}|Y_{t}| & \\text{if \\(t\\) is odd.}\\end{cases}$"
   ]
  },
  {
   "cell_type": "code",
   "execution_count": null,
   "metadata": {},
   "outputs": [],
   "source": [
    "class FPrimeModule(torch.nn.Module):\n",
    "    def forward(self, y_history: List[Tensor]):  # List[()] -> ()\n",
    "        \"\"\"\n",
    "        Given the most recent observation, returns a control F_t(Y_t) = 0.5 + 0.4 * |Y_t| when t is even \n",
    "        and -0.5 - 0.5 * |Y_t| when t is odd.\n",
    "        \"\"\"\n",
    "        t = len(y_history)\n",
    "\n",
    "        # TODO"
   ]
  },
  {
   "cell_type": "markdown",
   "metadata": {},
   "source": [
    "When $a = 1$, $c = 0$, $\\gamma = 1$, compare $F^*$ (the policy derived in Problem 5 (b)) to $F'$. "
   ]
  },
  {
   "cell_type": "code",
   "execution_count": null,
   "metadata": {},
   "outputs": [],
   "source": [
    "a = 1\n",
    "c = 0\n",
    "gamma = 1\n",
    "\n",
    "env = MultiplicativeGaussianObservationNoiseEnvironment(\n",
    "    a = a,\n",
    "    c = c,\n",
    "    gamma = gamma,\n",
    "    lmbda = 0\n",
    ")\n",
    "\n",
    "### F^*\n",
    "linear_policy = Policy(FixedWeightM1P1LinearModule(theta_on(a, c, gamma)))\n",
    "states_star, losses_star = sim_policy(100, 100, linear_policy, env)\n",
    "\n",
    "### F^'\n",
    "p2_policy = Policy(FPrimeModule())\n",
    "states_prime, losses_prime = sim_policy(100, 100, p2_policy, env)"
   ]
  },
  {
   "cell_type": "code",
   "execution_count": null,
   "metadata": {},
   "outputs": [],
   "source": [
    "mean_second_moments_star = np.power(states_star, 2).mean(axis=0)\n",
    "mean_cumsum_losses_star = np.array(losses_star).cumsum(axis=1).mean(0)\n",
    "\n",
    "mean_second_moments_prime = np.power(states_prime, 2).mean(axis=0)\n",
    "mean_cumsum_losses_prime = np.array(losses_prime).cumsum(axis=1).mean(0)\n",
    "\n",
    "fig, ax = plt.subplots(nrows=2, ncols=1, figsize=(9,12))\n",
    "\n",
    "ax[0].plot(mean_second_moments_star, label=r\"$F^*$\")\n",
    "ax[0].plot(mean_second_moments_prime, label=r\"$F'$\")\n",
    "ax[0].set_xlabel(r'$t$')\n",
    "ax[0].set_ylabel(r'$\\mathbb{E}[X_t^2]$')\n",
    "ax[0].set_yscale('log')\n",
    "ax[0].legend()\n",
    "ax[0].set_title('Empirical Average Second Moment for Observation-Noise System')\n",
    "\n",
    "ax[1].plot(mean_cumsum_losses_star, label=r\"$F^*$\")\n",
    "ax[1].plot(mean_cumsum_losses_prime, label=r\"$F'$\")\n",
    "ax[1].set_xlabel(r'$\\tilde{t}$')\n",
    "ax[1].set_ylabel(r'$L(U; \\tilde{t})$')\n",
    "ax[1].legend()\n",
    "ax[1].set_title('Partial Empirical Loss for Observation-Noise System')\n",
    "plt.show()"
   ]
  },
  {
   "cell_type": "markdown",
   "metadata": {},
   "source": [
    "### By comparing the performance of $F^*$ to the perfromance of $F'$, is $F^*$ the overall optimal policy for the observation noise system (as it is the case for the control noise and state-control noise systems)? "
   ]
  },
  {
   "cell_type": "markdown",
   "metadata": {},
   "source": [
    "TODO"
   ]
  },
  {
   "cell_type": "markdown",
   "metadata": {},
   "source": [
    "Note from the plots above that the optimal linear memory-1 period-1 policy is in fact $F^*(Y_t) = 0$ when $C = 0$. Hence, $X_{t} = a^t\\cdot X_0$ so when $|a| > 1$, this policy will necessarily not stabilize in the second moment. It remains unanswered, however, whether $F'$ can stabilize a system with $|a| > 1$.\n",
    "\n",
    "Repeat the above analysis with $a = 1.01$, $c = 0$, $\\gamma = 1$."
   ]
  },
  {
   "cell_type": "code",
   "execution_count": null,
   "metadata": {},
   "outputs": [],
   "source": [
    "a = 1.01\n",
    "c = 0\n",
    "gamma = 1\n",
    "\n",
    "env = MultiplicativeGaussianObservationNoiseEnvironment(\n",
    "    a = a,\n",
    "    c = c,\n",
    "    gamma = gamma,\n",
    "    lmbda = 0\n",
    ")\n",
    "\n",
    "### F^*\n",
    "linear_policy = Policy(FixedWeightM1P1LinearModule(theta_on(a, c, gamma)))\n",
    "states_star, losses_star = sim_policy(100, 100, linear_policy, env)\n",
    "\n",
    "### F^'\n",
    "p2_policy = Policy(FPrimeModule())\n",
    "states_prime, losses_prime = sim_policy(100, 100, p2_policy, env)"
   ]
  },
  {
   "cell_type": "code",
   "execution_count": null,
   "metadata": {},
   "outputs": [],
   "source": [
    "mean_second_moments_star = np.power(states_star, 2).mean(axis=0)\n",
    "mean_cumsum_losses_star = np.array(losses_star).cumsum(axis=1).mean(0)\n",
    "\n",
    "mean_second_moments_prime = np.power(states_prime, 2).mean(axis=0)\n",
    "mean_cumsum_losses_prime = np.array(losses_prime).cumsum(axis=1).mean(0)\n",
    "\n",
    "fig, ax = plt.subplots(nrows=2, ncols=1, figsize=(9,12))\n",
    "\n",
    "ax[0].plot(mean_second_moments_star, label=r\"$F^*$\")\n",
    "ax[0].plot(mean_second_moments_prime, label=r\"$F'$\")\n",
    "ax[0].set_xlabel(r'$t$')\n",
    "ax[0].set_ylabel(r'$\\mathbb{E}[X_t^2]$')\n",
    "ax[0].set_yscale('log')\n",
    "ax[0].legend()\n",
    "ax[0].set_title('Empirical $\\mathbb{E}[X_t^2]$ for Observation-Noise System')\n",
    "\n",
    "ax[1].plot(mean_cumsum_losses_star, label=r\"$F^*$\")\n",
    "ax[1].plot(mean_cumsum_losses_prime, label=r\"$F'$\")\n",
    "ax[1].set_xlabel(r'$\\tilde{t}$')\n",
    "ax[1].set_ylabel(r'$L(F); \\tilde{t})$')\n",
    "ax[1].legend()\n",
    "ax[1].set_title('Empirical Partial Loss for Observation-Noise System')\n",
    "plt.show()"
   ]
  },
  {
   "cell_type": "markdown",
   "metadata": {},
   "source": [
    "### By inspection, does $F'$ seem to stabilize this system?"
   ]
  },
  {
   "cell_type": "markdown",
   "metadata": {},
   "source": [
    "TODO"
   ]
  },
  {
   "cell_type": "markdown",
   "metadata": {},
   "source": [
    "# Playground - Try something cool!"
   ]
  },
  {
   "cell_type": "code",
   "execution_count": null,
   "metadata": {},
   "outputs": [],
   "source": []
  }
 ],
 "metadata": {
  "kernelspec": {
   "display_name": "Python 3 (ipykernel)",
   "language": "python",
   "name": "python3"
  },
  "language_info": {
   "codemirror_mode": {
    "name": "ipython",
    "version": 3
   },
   "file_extension": ".py",
   "mimetype": "text/x-python",
   "name": "python",
   "nbconvert_exporter": "python",
   "pygments_lexer": "ipython3",
   "version": "3.8.9"
  }
 },
 "nbformat": 4,
 "nbformat_minor": 4
}
